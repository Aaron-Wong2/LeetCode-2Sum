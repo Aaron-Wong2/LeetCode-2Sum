{
  "nbformat": 4,
  "nbformat_minor": 0,
  "metadata": {
    "colab": {
      "provenance": []
    },
    "kernelspec": {
      "name": "python3",
      "display_name": "Python 3"
    },
    "language_info": {
      "name": "python"
    }
  },
  "cells": [
    {
      "cell_type": "code",
      "execution_count": null,
      "metadata": {
        "id": "fk8nOg_snEc-"
      },
      "outputs": [],
      "source": [
        "class Solution:\n",
        "    def twoSum(self, nums: List[int], target: int) -> List[int]:\n",
        "        #the for loop runs each time for the length of the list nums to find the first element\n",
        "        for i in range(len(nums)):\n",
        "            #this for loop looks for the second element that is next to i\n",
        "            for j in range(i + 1, len(nums)):\n",
        "                #this if statement is saying that if the first element and the second element found sums to the target then it will return the indicies that work\n",
        "                if nums[i] + nums[j] == target:\n",
        "                    return [i,j]"
      ]
    }
  ]
}